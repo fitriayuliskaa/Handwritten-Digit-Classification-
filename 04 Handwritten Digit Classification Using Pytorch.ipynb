{
  "nbformat": 4,
  "nbformat_minor": 0,
  "metadata": {
    "colab": {
      "provenance": []
    },
    "kernelspec": {
      "name": "python3",
      "display_name": "Python 3"
    },
    "language_info": {
      "name": "python"
    }
  },
  "cells": [
    {
      "cell_type": "code",
      "execution_count": null,
      "metadata": {
        "id": "NCPivAj4nvRX"
      },
      "outputs": [],
      "source": [
        "import torch\n",
        "import torch.nn as nn\n",
        "import torch.optim as optim\n",
        "import torchvision\n",
        "import torchvision.transforms as transforms\n",
        "from sklearn.metrics import accuracy_score, confusion_matrix, f1_score, precision_score, recall_score\n",
        "import matplotlib.pyplot as plt"
      ]
    },
    {
      "cell_type": "code",
      "source": [
        "# Fungsi untuk memuat dataset MNIST dan membuat data loader\n",
        "def load_mnist_data(batch_size=64):\n",
        "    transform = transforms.Compose([transforms.ToTensor(), transforms.Normalize((0.5,), (0.5,))])\n",
        "    trainset = torchvision.datasets.MNIST(root='./data', train=True, download=True, transform=transform)\n",
        "    trainloader = torch.utils.data.DataLoader(trainset, batch_size=batch_size, shuffle=True)\n",
        "    testset = torchvision.datasets.MNIST(root='./data', train=False, download=True, transform=transform)\n",
        "    testloader = torch.utils.data.DataLoader(testset, batch_size=batch_size, shuffle=False)\n",
        "    return trainloader, testloader"
      ],
      "metadata": {
        "id": "HS1Emfu1pjkt"
      },
      "execution_count": null,
      "outputs": []
    },
    {
      "cell_type": "code",
      "source": [
        "# Fungsi untuk menampilkan beberapa gambar dari dataset MNIST\n",
        "def visualize_mnist_samples(trainloader, num_samples=5):\n",
        "    dataiter = iter(trainloader)\n",
        "    images, labels = next(dataiter)\n",
        "    for i in range(num_samples):\n",
        "        plt.subplot(1, num_samples, i + 1)\n",
        "        plt.imshow(images[i].numpy().squeeze(), cmap='gray')\n",
        "        plt.title(f'Label: {labels[i].item()}')\n",
        "        plt.axis('off')\n",
        "    plt.show()"
      ],
      "metadata": {
        "id": "yiX9WH4Wpq1d"
      },
      "execution_count": null,
      "outputs": []
    },
    {
      "cell_type": "code",
      "source": [
        "# Desain model Neural Network\n",
        "class SimpleNN(nn.Module):\n",
        "    def __init__(self):\n",
        "        super(SimpleNN, self).__init__()\n",
        "        self.fc1 = nn.Linear(28 * 28, 128)\n",
        "        self.relu = nn.ReLU()\n",
        "        self.fc2 = nn.Linear(128, 10)\n",
        "\n",
        "    def forward(self, x):\n",
        "        x = x.view(x.size(0), -1)\n",
        "        x = self.fc1(x)\n",
        "        x = self.relu(x)\n",
        "        x = self.fc2(x)\n",
        "        return x"
      ],
      "metadata": {
        "id": "shbNR-zzpzGy"
      },
      "execution_count": null,
      "outputs": []
    },
    {
      "cell_type": "code",
      "source": [
        "# Fungsi untuk melatih model\n",
        "def train_model(trainloader, model, num_epochs=10, learning_rate=0.001):\n",
        "    criterion = nn.CrossEntropyLoss()\n",
        "    optimizer = optim.Adam(model.parameters(), lr=learning_rate)\n",
        "\n",
        "    for epoch in range(num_epochs):\n",
        "        running_loss = 0.0\n",
        "        for i, data in enumerate(trainloader, 0):\n",
        "            inputs, labels = data\n",
        "            optimizer.zero_grad()\n",
        "            outputs = model(inputs)\n",
        "            loss = criterion(outputs, labels)\n",
        "            loss.backward()\n",
        "            optimizer.step()\n",
        "            running_loss += loss.item()\n",
        "\n",
        "        print(f'Epoch {epoch + 1}/{num_epochs}, Loss: {running_loss / len(trainloader)}')\n",
        "\n",
        "    print('Finished Training')"
      ],
      "metadata": {
        "id": "TnLVS9Z_p3u1"
      },
      "execution_count": null,
      "outputs": []
    },
    {
      "cell_type": "code",
      "source": [
        "# Fungsi untuk mengevaluasi model\n",
        "def evaluate_model(testloader, model):\n",
        "    model.eval()\n",
        "    all_labels = []\n",
        "    all_predictions = []\n",
        "\n",
        "    with torch.no_grad():\n",
        "        for data in testloader:\n",
        "            images, labels = data\n",
        "            outputs = model(images)\n",
        "            _, predicted = torch.max(outputs, 1)\n",
        "            all_labels.extend(labels.numpy())\n",
        "            all_predictions.extend(predicted.numpy())\n",
        "\n",
        "    accuracy = accuracy_score(all_labels, all_predictions)\n",
        "    cm = confusion_matrix(all_labels, all_predictions)\n",
        "    f1 = f1_score(all_labels, all_predictions, average='weighted')\n",
        "    precision = precision_score(all_labels, all_predictions, average='weighted')\n",
        "    recall = recall_score(all_labels, all_predictions, average='weighted')\n",
        "\n",
        "    return accuracy, cm, f1, precision, recall"
      ],
      "metadata": {
        "id": "qogA4MCDp-ig"
      },
      "execution_count": null,
      "outputs": []
    },
    {
      "cell_type": "code",
      "source": [
        "# Main function untuk menjalankan seluruh workflow\n",
        "def main():\n",
        "    trainloader, testloader = load_mnist_data()\n",
        "    visualize_mnist_samples(trainloader)\n",
        "\n",
        "    model = SimpleNN()\n",
        "    train_model(trainloader, model, num_epochs=10, learning_rate=0.001)\n",
        "\n",
        "    accuracy, cm, f1, precision, recall = evaluate_model(testloader, model)\n",
        "\n",
        "    print(f'Accuracy: {accuracy}')\n",
        "    print('Confusion Matrix:')\n",
        "    print(cm)\n",
        "    print(f'F1 Score: {f1}')\n",
        "    print(f'Precision: {precision}')\n",
        "    print(f'Recall: {recall}')\n",
        "\n",
        "if __name__ == \"__main__\":\n",
        "    main()"
      ],
      "metadata": {
        "colab": {
          "base_uri": "https://localhost:8080/",
          "height": 990
        },
        "id": "EJ20A7oZqB3F",
        "outputId": "cb033aab-4a7b-428d-8800-cd6f86de358e"
      },
      "execution_count": null,
      "outputs": [
        {
          "output_type": "stream",
          "name": "stdout",
          "text": [
            "Downloading http://yann.lecun.com/exdb/mnist/train-images-idx3-ubyte.gz\n",
            "Downloading http://yann.lecun.com/exdb/mnist/train-images-idx3-ubyte.gz to ./data/MNIST/raw/train-images-idx3-ubyte.gz\n"
          ]
        },
        {
          "output_type": "stream",
          "name": "stderr",
          "text": [
            "100%|██████████| 9912422/9912422 [00:00<00:00, 84652824.99it/s]\n"
          ]
        },
        {
          "output_type": "stream",
          "name": "stdout",
          "text": [
            "Extracting ./data/MNIST/raw/train-images-idx3-ubyte.gz to ./data/MNIST/raw\n",
            "\n",
            "Downloading http://yann.lecun.com/exdb/mnist/train-labels-idx1-ubyte.gz\n",
            "Downloading http://yann.lecun.com/exdb/mnist/train-labels-idx1-ubyte.gz to ./data/MNIST/raw/train-labels-idx1-ubyte.gz\n"
          ]
        },
        {
          "output_type": "stream",
          "name": "stderr",
          "text": [
            "100%|██████████| 28881/28881 [00:00<00:00, 94049451.73it/s]\n"
          ]
        },
        {
          "output_type": "stream",
          "name": "stdout",
          "text": [
            "Extracting ./data/MNIST/raw/train-labels-idx1-ubyte.gz to ./data/MNIST/raw\n",
            "\n",
            "Downloading http://yann.lecun.com/exdb/mnist/t10k-images-idx3-ubyte.gz\n",
            "Downloading http://yann.lecun.com/exdb/mnist/t10k-images-idx3-ubyte.gz to ./data/MNIST/raw/t10k-images-idx3-ubyte.gz\n"
          ]
        },
        {
          "output_type": "stream",
          "name": "stderr",
          "text": [
            "100%|██████████| 1648877/1648877 [00:00<00:00, 21737627.48it/s]\n"
          ]
        },
        {
          "output_type": "stream",
          "name": "stdout",
          "text": [
            "Extracting ./data/MNIST/raw/t10k-images-idx3-ubyte.gz to ./data/MNIST/raw\n",
            "\n",
            "Downloading http://yann.lecun.com/exdb/mnist/t10k-labels-idx1-ubyte.gz\n",
            "Downloading http://yann.lecun.com/exdb/mnist/t10k-labels-idx1-ubyte.gz to ./data/MNIST/raw/t10k-labels-idx1-ubyte.gz\n"
          ]
        },
        {
          "output_type": "stream",
          "name": "stderr",
          "text": [
            "100%|██████████| 4542/4542 [00:00<00:00, 16366433.65it/s]"
          ]
        },
        {
          "output_type": "stream",
          "name": "stdout",
          "text": [
            "Extracting ./data/MNIST/raw/t10k-labels-idx1-ubyte.gz to ./data/MNIST/raw\n",
            "\n"
          ]
        },
        {
          "output_type": "stream",
          "name": "stderr",
          "text": [
            "\n"
          ]
        },
        {
          "output_type": "display_data",
          "data": {
            "text/plain": [
              "<Figure size 640x480 with 5 Axes>"
            ],
            "image/png": "[encoded data removed]"
          },
          "metadata": {}
        },
        {
          "output_type": "stream",
          "name": "stdout",
          "text": [
            "Epoch 1/10, Loss: 0.37736934295563557\n",
            "Epoch 2/10, Loss: 0.19449660880590425\n",
            "Epoch 3/10, Loss: 0.1412028890124945\n",
            "Epoch 4/10, Loss: 0.11387113945236974\n",
            "Epoch 5/10, Loss: 0.09750639845275565\n",
            "Epoch 6/10, Loss: 0.0853606274382257\n",
            "Epoch 7/10, Loss: 0.07688133043052355\n",
            "Epoch 8/10, Loss: 0.06838085030717875\n",
            "Epoch 9/10, Loss: 0.06135576980824926\n",
            "Epoch 10/10, Loss: 0.05758111714484738\n",
            "Finished Training\n",
            "Accuracy: 0.9734\n",
            "Confusion Matrix:\n",
            "[[ 955    0    0    1    2    6    6    1    5    4]\n",
            " [   0 1123    2    2    0    0    1    0    7    0]\n",
            " [   4    1  982   15    6    1    2    8   13    0]\n",
            " [   0    1    1  995    0    5    0    1    2    5]\n",
            " [   0    0    1    1  961    0    6    2    0   11]\n",
            " [   2    0    0   12    2  867    3    0    3    3]\n",
            " [   3    3    2    1    8    4  936    0    1    0]\n",
            " [   0    4    6    5    4    0    0  995    2   12]\n",
            " [   3    0    2    9    5    4    2    3  944    2]\n",
            " [   0    5    0    8    8    4    2    2    4  976]]\n",
            "F1 Score: 0.973415089340411\n",
            "Precision: 0.9735971278884119\n",
            "Recall: 0.9734\n"
          ]
        }
      ]
    },
    {
      "cell_type": "markdown",
      "source": [
        "**Bonus Task**"
      ],
      "metadata": {
        "id": "6kLdiFGctFal"
      }
    },
    {
      "cell_type": "code",
      "source": [
        "import torch\n",
        "import torch.nn as nn\n",
        "import torch.optim as optim\n",
        "import torchvision\n",
        "import torchvision.transforms as transforms\n",
        "from sklearn.metrics import accuracy_score, confusion_matrix, f1_score, precision_score, recall_score\n",
        "import matplotlib.pyplot as plt"
      ],
      "metadata": {
        "id": "wSOnQHqWtKS7"
      },
      "execution_count": null,
      "outputs": []
    },
    {
      "cell_type": "code",
      "source": [
        "# Fungsi untuk memuat dataset MNIST dan membuat data loader\n",
        "def load_mnist_data(batch_size=64):\n",
        "    transform = transforms.Compose([transforms.ToTensor(), transforms.Normalize((0.5,), (0.5,))])\n",
        "    trainset = torchvision.datasets.MNIST(root='./data', train=True, download=True, transform=transform)\n",
        "    trainloader = torch.utils.data.DataLoader(trainset, batch_size=batch_size, shuffle=True)\n",
        "    testset = torchvision.datasets.MNIST(root='./data', train=False, download=True, transform=transform)\n",
        "    testloader = torch.utils.data.DataLoader(testset, batch_size=batch_size, shuffle=False)\n",
        "    return trainloader, testloader"
      ],
      "metadata": {
        "id": "by7HQKZYtOFa"
      },
      "execution_count": null,
      "outputs": []
    },
    {
      "cell_type": "code",
      "source": [
        "# Desain model Neural Network\n",
        "class SimpleNN(nn.Module):\n",
        "    def __init__(self):\n",
        "        super(SimpleNN, self).__init__()\n",
        "        self.fc1 = nn.Linear(28 * 28, 128)\n",
        "        self.relu = nn.ReLU()\n",
        "        self.fc2 = nn.Linear(128, 10)\n",
        "\n",
        "    def forward(self, x):\n",
        "        x = x.view(x.size(0), -1)\n",
        "        x = self.fc1(x)\n",
        "        x = self.relu(x)\n",
        "        x = self.fc2(x)\n",
        "        return x"
      ],
      "metadata": {
        "id": "gsEjhvoJtPPL"
      },
      "execution_count": null,
      "outputs": []
    },
    {
      "cell_type": "code",
      "source": [
        "# Fungsi untuk melatih model dengan konfigurasi tertentu\n",
        "def train_model(trainloader, model, criterion, optimizer, num_epochs=10):\n",
        "    for epoch in range(num_epochs):\n",
        "        running_loss = 0.0\n",
        "        for i, data in enumerate(trainloader, 0):\n",
        "            inputs, labels = data\n",
        "            optimizer.zero_grad()\n",
        "            outputs = model(inputs)\n",
        "            loss = criterion(outputs, labels)\n",
        "            loss.backward()\n",
        "            optimizer.step()\n",
        "            running_loss += loss.item()\n",
        "\n",
        "        print(f'Epoch {epoch + 1}/{num_epochs}, Loss: {running_loss / len(trainloader)}')\n",
        "\n",
        "    print('Finished Training')"
      ],
      "metadata": {
        "id": "GWbYaUBVtVit"
      },
      "execution_count": null,
      "outputs": []
    },
    {
      "cell_type": "code",
      "source": [
        "# Fungsi untuk mengevaluasi model\n",
        "def evaluate_model(testloader, model):\n",
        "    model.eval()\n",
        "    all_labels = []\n",
        "    all_predictions = []\n",
        "\n",
        "    with torch.no_grad():\n",
        "        for data in testloader:\n",
        "            images, labels = data\n",
        "            outputs = model(images)\n",
        "            _, predicted = torch.max(outputs, 1)\n",
        "            all_labels.extend(labels.numpy())\n",
        "            all_predictions.extend(predicted.numpy())\n",
        "\n",
        "    accuracy = accuracy_score(all_labels, all_predictions)\n",
        "    cm = confusion_matrix(all_labels, all_predictions)\n",
        "    f1 = f1_score(all_labels, all_predictions, average='weighted')\n",
        "    precision = precision_score(all_labels, all_predictions, average='weighted')\n",
        "    recall = recall_score(all_labels, all_predictions, average='weighted')\n",
        "\n",
        "    return accuracy, cm, f1, precision, recall"
      ],
      "metadata": {
        "id": "FHhXTz0AtY04"
      },
      "execution_count": null,
      "outputs": []
    },
    {
      "cell_type": "code",
      "source": [
        "# Fungsi untuk membandingkan tiga konfigurasi dengan loss function berbeda\n",
        "def compare_loss_functions():\n",
        "    trainloader, testloader = load_mnist_data()\n",
        "    model = SimpleNN()\n",
        "    num_epochs = 10\n",
        "    learning_rate = 0.001\n",
        "\n",
        "    loss_functions = [nn.CrossEntropyLoss(), nn.NLLLoss(), nn.MultiMarginLoss()]\n",
        "    loss_function_names = [\"CrossEntropyLoss\", \"NLLLoss\", \"MultiMarginLoss\"]\n",
        "\n",
        "    for i, loss_function in enumerate(loss_functions):\n",
        "        print(f\"Training with {loss_function_names[i]}:\")\n",
        "        optimizer = optim.Adam(model.parameters(), lr=learning_rate)\n",
        "        model = SimpleNN()\n",
        "        train_model(trainloader, model, loss_function, optimizer, num_epochs)\n",
        "        accuracy, _, f1, precision, recall = evaluate_model(testloader, model)\n",
        "        print(f\"Accuracy: {accuracy}\")\n",
        "        print(f\"F1 Score: {f1}\")\n",
        "        print(f\"Precision: {precision}\")\n",
        "        print(f\"Recall: {recall}\")\n",
        "        print(\"\\n\")\n",
        "\n",
        "if __name__ == \"__main__\":\n",
        "    compare_loss_functions()"
      ],
      "metadata": {
        "colab": {
          "base_uri": "https://localhost:8080/"
        },
        "id": "_Jz5cYcetZeS",
        "outputId": "81fea70b-6ccf-411b-fdb4-b0401006e95c"
      },
      "execution_count": null,
      "outputs": [
        {
          "output_type": "stream",
          "name": "stdout",
          "text": [
            "Training with CrossEntropyLoss:\n",
            "Epoch 1/10, Loss: 2.317066758680445\n",
            "Epoch 2/10, Loss: 2.3170752914221304\n",
            "Epoch 3/10, Loss: 2.317050183505646\n",
            "Epoch 4/10, Loss: 2.317084343194453\n",
            "Epoch 5/10, Loss: 2.3170961215297803\n",
            "Epoch 6/10, Loss: 2.3170598239532665\n",
            "Epoch 7/10, Loss: 2.31707098260363\n",
            "Epoch 8/10, Loss: 2.317086809225428\n",
            "Epoch 9/10, Loss: 2.317077217325727\n",
            "Epoch 10/10, Loss: 2.3170727219408764\n",
            "Finished Training\n"
          ]
        },
        {
          "output_type": "stream",
          "name": "stderr",
          "text": [
            "/usr/local/lib/python3.10/dist-packages/sklearn/metrics/_classification.py:1344: UndefinedMetricWarning: Precision is ill-defined and being set to 0.0 in labels with no predicted samples. Use `zero_division` parameter to control this behavior.\n",
            "  _warn_prf(average, modifier, msg_start, len(result))\n"
          ]
        },
        {
          "output_type": "stream",
          "name": "stdout",
          "text": [
            "Accuracy: 0.0978\n",
            "F1 Score: 0.029008279037913674\n",
            "Precision: 0.06421210598552939\n",
            "Recall: 0.0978\n",
            "\n",
            "\n",
            "Training with NLLLoss:\n",
            "Epoch 1/10, Loss: -0.06846707763953576\n",
            "Epoch 2/10, Loss: -0.06844873131799654\n",
            "Epoch 3/10, Loss: -0.06842093033763741\n",
            "Epoch 4/10, Loss: -0.06847710096846217\n",
            "Epoch 5/10, Loss: -0.06842050296793094\n",
            "Epoch 6/10, Loss: -0.06847071064711074\n",
            "Epoch 7/10, Loss: -0.0684488400940283\n",
            "Epoch 8/10, Loss: -0.06844737283018694\n",
            "Epoch 9/10, Loss: -0.06844924762795396\n",
            "Epoch 10/10, Loss: -0.06842858236396501\n",
            "Finished Training\n"
          ]
        },
        {
          "output_type": "stream",
          "name": "stderr",
          "text": [
            "/usr/local/lib/python3.10/dist-packages/sklearn/metrics/_classification.py:1344: UndefinedMetricWarning: Precision is ill-defined and being set to 0.0 in labels with no predicted samples. Use `zero_division` parameter to control this behavior.\n",
            "  _warn_prf(average, modifier, msg_start, len(result))\n"
          ]
        },
        {
          "output_type": "stream",
          "name": "stdout",
          "text": [
            "Accuracy: 0.0527\n",
            "F1 Score: 0.02719173299211527\n",
            "Precision: 0.08097650649900599\n",
            "Recall: 0.0527\n",
            "\n",
            "\n",
            "Training with MultiMarginLoss:\n",
            "Epoch 1/10, Loss: 0.8993842528700066\n",
            "Epoch 2/10, Loss: 0.8994453727309384\n",
            "Epoch 3/10, Loss: 0.89946459452989\n",
            "Epoch 4/10, Loss: 0.899446092688961\n",
            "Epoch 5/10, Loss: 0.8994424447957386\n",
            "Epoch 6/10, Loss: 0.8994443326362415\n",
            "Epoch 7/10, Loss: 0.8994112237811343\n",
            "Epoch 8/10, Loss: 0.8994174540551232\n",
            "Epoch 9/10, Loss: 0.8994399270396243\n",
            "Epoch 10/10, Loss: 0.8994270299416361\n",
            "Finished Training\n",
            "Accuracy: 0.0887\n",
            "F1 Score: 0.05215486018651084\n",
            "Precision: 0.07501776206472041\n",
            "Recall: 0.0887\n",
            "\n",
            "\n"
          ]
        },
        {
          "output_type": "stream",
          "name": "stderr",
          "text": [
            "/usr/local/lib/python3.10/dist-packages/sklearn/metrics/_classification.py:1344: UndefinedMetricWarning: Precision is ill-defined and being set to 0.0 in labels with no predicted samples. Use `zero_division` parameter to control this behavior.\n",
            "  _warn_prf(average, modifier, msg_start, len(result))\n"
          ]
        }
      ]
    },
    {
      "cell_type": "markdown",
      "source": [
        "1. Nilai Akurasi dan Recall tertinggi sebesar 0.0978 yaitu berdasarkan Loss Function dengan CrossEntropyLoss\n",
        "2. Nilai F1 Score tertinggi sebesar 0.05215486018651084 yaitu berdasarkan Loss Function dengan MultiMarginLoss\n",
        "3. Nilai Presisi tertinggi sebesar 0.08097650649900599 yaitu berdasarkan Loss Function dengan NLLLoss\n"
      ],
      "metadata": {
        "id": "KGcR1ctNzNdD"
      }
    }
  ]
}